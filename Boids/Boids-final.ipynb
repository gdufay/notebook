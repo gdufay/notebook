{
 "cells": [
  {
   "cell_type": "markdown",
   "metadata": {},
   "source": [
    "# Boids\n",
    "Gaëtan Dufay & Maximilien Escalera\n",
    "\n",
    "Nous tentons d'étudier ici le comportement grégaire[$^{[1]}$](#Sources) des animaux observé dans la nature. Ce comportement est présent dans un vol d'hirondelles, un banc de saumons, un troupeau de bisons... Il émerge quand un grand nombre d'animaux agissent ensemble donnant l'impression d'une volonté de groupe :\n",
    "\n",
    "> the strong impression of intentional centralized control\n",
    ">\n",
    "> Reynolds, 1987[$^{[2]}$](#Sources).\n",
    "\n",
    "\n",
    "Il semblerait que ces comportements se soient développés comme un mécanisme de défense contre les prédateurs. En effet, être en groupe confère l'avantage d'être plus alerte à l'arrivée d'un prédateur même si il procure le désavantage d'attirer lesdits prédateurs[$^{[3]}$](#Sources).\n",
    "\n",
    "Nous allons modéliser ce comportement à travers une simulation de boids. Le modèle des boids est un modèle simple développé par Craig W. Reynolds en 1986[$^{[4]}$](#Sources), qui vise à recréer les comportements grégaires observés dans la nature, le terme boid (contraction de bird-oid) désignant la créature générique composant la foule simulée. Chaque boid individuel ne communique pas avec ses voisins mais fait seulement des choix sur sa trajectoire en fonction de son voisinage.\n",
    "\n",
    "Ces choix sont effectués en suivant trois règles simples :\n",
    "- **Séparation** : les boids ajustent leur trajectoire afin de ne pas se collisionner entre eux\n",
    "- **Alignement** : les boids s'orientent de manière à s'aligner avec leur voisinage\n",
    "- **Cohésion** : pour former un groupe, les boids se rapprochent du centre de masse de leur voisinage\n",
    "\n",
    "Il faut alors définir le *voisinage* d'un boid. Nous considérons qu'un boid se trouve dans le voisinage d'un autre boid s'il est dans son champ de vision, à savoir une sphère a laquelle nous retirons un angle solide, correspondant à l'angle mort du boid.\n",
    "Ainsi, on peut se représenter un boid comme suit en deux dimensions:\n",
    "\n",
    "<figure>\n",
    "    <img src=\"https://upload.wikimedia.org/wikipedia/commons/1/17/Boids.png\" width=\"256\">\n",
    "    <figcaption>Voisinnage d'un boid (Ænthaüs, CC BY-SA 4.0 via Wikimedia Commons)</figcaption>\n",
    "</figure>\n",
    "\n",
    "Du rouge le plus foncé au plus clair: zone de répulsion, d'orientation et d'attraction. La partie grise est hors du champ de vision.\n",
    "Dans notre cas, les disques sont en faites des sphères car nous faisons la simulation en 3D.\n",
    "\n",
    "A ces trois règles principales, s'ajoutent d'autres règles pour rendre le comportement plus réaliste (limitation de la vitesse, évolution dans un espace restreint...).[$^{[4][5][6]}$](#Sources)\n",
    "\n",
    "On cherche alors à étudier les caractéristiques du ou des groupes ainsi formés."
   ]
  },
  {
   "cell_type": "code",
   "execution_count": null,
   "metadata": {
    "id": "QGs6a2CIjDAV"
   },
   "outputs": [],
   "source": [
    "import numpy as np # calcul vectoriel\n",
    "import matplotlib.pyplot as plt # visualisation et graphismes\n",
    "from mpl_toolkits.mplot3d import axes3d  # Fonction pour la 3D\n",
    "import matplotlib.animation as animation # animation\n",
    "import itertools as it # générateurs\n",
    "from collections import deque # double liste chainée\n",
    "from ipywidgets import IntProgress # barre de progression\n",
    "from IPython.display import display # affichage pour ipywidgets\n",
    "import joypy # joyplot"
   ]
  },
  {
   "cell_type": "markdown",
   "metadata": {
    "tags": []
   },
   "source": [
    "## Table des matières\n",
    "\n",
    "- [Algorithme](#Algorithme)\n",
    "    - [Spatial hash grid](#Spatial-hash-grid)\n",
    "    - [Classe de vecteurs en trois dimensions](#Vec3)\n",
    "    - [Boid](#Boid)\n",
    "    - [Statistiques](#Statistiques)\n",
    "- [Un premier groupe](#Un-premier-groupe)\n",
    "- [Poissons](#Poissons)\n",
    "    - Visualisation\n",
    "    - Statistiques\n",
    "- [Oiseaux](#Oiseaux)\n",
    "    - Visualisation\n",
    "    - Statistiques\n",
    "- [Essaim](#Essaim)\n",
    "    - Visualisation\n",
    "    - Statistiques\n",
    "\n",
    "## Algorithme\n",
    "\n",
    "### Spatial hash grid\n",
    "\n",
    "Une implémentation naïve de l'algorithme pour calculer la nouvelle vitesse de chaque individu consiste à itérer sur tous les boids pour chaque boid. Cela nous donne donc une compléxité en $O(n^2)$, c'est-à-dire que si nous doublons le nombre de boids par exemple, nous multiplions le temps de calcul par quatre. Or, comme il n'est pas rare d'avoir plusieurs centaines (voir milliers) d'individus au sein d'une nuée d'oiseaux ou d'un banc de poisson[$^{[7]}$](#Sources), il est nécessaire d'implémenter un algorithme plus \"intelligent\".\n",
    "\n",
    "Pour ce faire, on décide d'implémenter un spatial hash.\n",
    "Un spatial hash est une manière d'indexer des objets dans l'espace[$^{[8]}$](#Sources) et nous permet de reduire la complexité à $O(n \\log(n))$. Le principe est de découper l'espace (2D ou 3D) en un ensemble de cellule de taille fixes, chaque cellule pouvant contenir un nombre variables d'objets (ici des boids). Cela nous permet ainsi d'itérer seulement sur les cellules proches d'un boid donc d'ignorer des boids qui n'auraient de toutes façons pas été dans le champ de vision, et ainsi de limiter le nombre d'itérations.\n",
    "\n",
    "Le choix d'utiliser cet algorithme au lieu d'autres potentiellement plus rapides (par exemple octree) est notamment du à sa simplicité d'implémentation en python.\n",
    "\n",
    "Cependant, et comme le souligne l'auteur[$^{[2]}$](#Sources), cette complexité est loin de représenter la réalité. Un groupe n'ayant à priori pas de limite à sa taille, la quantité de boid ne devrait pas impacter le temps de calcul des trajectoires, comme une sorte de grandeurs intensives du système."
   ]
  },
  {
   "cell_type": "code",
   "execution_count": null,
   "metadata": {
    "tags": []
   },
   "outputs": [],
   "source": [
    "# sources :\n",
    "# - https://www.pygame.org/wiki/SpatialHashMap\n",
    "# - http://mauveweb.co.uk/posts/2011/05/introduction-to-spatial-hashes.html\n",
    "#\n",
    "# Modifications par rapport à la source :\n",
    "# - ajout de la méthode from_boids dans la classe\n",
    "# - utilisation de numpy pour les clés\n",
    "# - utilisation d'un set plutôt que d'une liste\n",
    "# - utilisation des fonctions par défaut\n",
    "# - possibilités de supprimer / mettre à jour un élément\n",
    "# - recherche dans des cases alentours\n",
    "\n",
    "class HashMap(object):\n",
    "    \"\"\"\n",
    "    Hashmap est un indexage spatial utilisé pour la détection de collision.\n",
    "    \"\"\"\n",
    "    def __init__(self, cell_size=15):\n",
    "        self.cell_size = cell_size # taille d'une cellule\n",
    "        self.grid = {} # ensemble des cellules\n",
    "\n",
    "    @classmethod\n",
    "    def from_boids(cls, boids, cell_size=15):\n",
    "        \"\"\"\n",
    "        Crée un HashMap à partir d'une liste de boids.\n",
    "        \"\"\"\n",
    "        hashmap = cls(cell_size) # on instancie la class\n",
    "        setdefault = hashmap.grid.setdefault\n",
    "        key = hashmap.key\n",
    "\n",
    "        # ajoute chaque boid dans la grille\n",
    "        for boid in boids:\n",
    "            setdefault(key(boid.position_), set()).add(boid)\n",
    "\n",
    "        return hashmap\n",
    "\n",
    "\n",
    "    def key(self, point):\n",
    "        \"\"\"\n",
    "        Fonction de hashage.\n",
    "        \"\"\"\n",
    "        cell_size = self.cell_size\n",
    "\n",
    "        return tuple((np.floor(point / self.cell_size) * self.cell_size).astype(int))\n",
    "\n",
    "    def insert(self, point, obj):\n",
    "        \"\"\"\n",
    "        Insère un point dans la hashmap.\n",
    "        \"\"\"\n",
    "        self.grid.setdefault(self.key(point), set()).add(obj)\n",
    "        \n",
    "    def remove(self, point, obj):\n",
    "        \"\"\"\n",
    "        Supprime un point de la hashmap.\n",
    "        \"\"\"\n",
    "        cell = self.query(self.key(point))\n",
    "        cell.discard(obj)\n",
    "        \n",
    "    def update(self, old, new, obj):\n",
    "        \"\"\"\n",
    "        Met à jour un point.\n",
    "        \"\"\"\n",
    "        self.remove(old, obj)\n",
    "        self.insert(new, obj)\n",
    "\n",
    "    def query(self, point):\n",
    "        \"\"\"\n",
    "        Retourne tous les objets dans la cellule point.\n",
    "        \"\"\"\n",
    "        return self.grid.get(point, set())\n",
    "    \n",
    "    def find_near(self, point):\n",
    "        \"\"\"\n",
    "        Retourne tous les objets des cellules adjacentes à un point.\n",
    "        \"\"\"\n",
    "        ret = set()\n",
    "        radius = self.cell_size\n",
    "        x, y, z = self.key(point)\n",
    "\n",
    "        # on multiplie par 2 car la dernière cellule n'est pas incluse\n",
    "        xmin, xmax = x - radius, x + 2 * radius\n",
    "        ymin, ymax = y - radius, y + 2 * radius\n",
    "        zmin, zmax = z - radius, z + 2 * radius\n",
    "\n",
    "        # ensemble des cellules adjacentes\n",
    "        indexes = it.product(range(xmin, xmax, self.cell_size), range(ymin, ymax, self.cell_size), range(zmin, zmax, self.cell_size))\n",
    "\n",
    "        # on regarde dans toutes les cellules adjacentes\n",
    "        for idx in indexes:\n",
    "            ret |= self.query(idx) # ajout des objets non présent\n",
    "\n",
    "        return ret"
   ]
  },
  {
   "cell_type": "markdown",
   "metadata": {
    "tags": []
   },
   "source": [
    "### Vec3"
   ]
  },
  {
   "cell_type": "code",
   "execution_count": null,
   "metadata": {},
   "outputs": [],
   "source": [
    "# sources :\n",
    "# - https://numpy.org/doc/stable/user/basics.subclassing.html#slightly-more-realistic-example-attribute-added-to-existing-array\n",
    "\n",
    "class Vec3(np.ndarray):\n",
    "    \"\"\"\n",
    "    Sous-classe de numpy.ndarray représentant un vecteur de dimension 3.\n",
    "    On y a ajouté quelques méthodes utiles.\n",
    "    \"\"\"\n",
    "    def __new__(cls, input_array):\n",
    "        obj = np.asarray(input_array).view(cls)\n",
    "\n",
    "        return obj\n",
    "    \n",
    "    def norm(self):\n",
    "        \"\"\"Retourne la norme du vecteur\"\"\"\n",
    "        return np.linalg.norm(self)\n",
    "    \n",
    "    def cos_angle(self, other):\n",
    "        \"\"\"Retourne le cosinus de l'angle formé entre ce vecteur et un autre\"\"\"\n",
    "        normed = self / self.norm()\n",
    "        o_normed = other / other.norm()\n",
    "        \n",
    "        return normed.dot(o_normed)"
   ]
  },
  {
   "cell_type": "markdown",
   "metadata": {},
   "source": [
    "### Boid[$^{[5]}$](#Sources)\n",
    "\n",
    "Comme dit plus haut, la créature générique qu'on cherche à simuler est un boid.  \n",
    "En plus des 3 règles de base (**cohésion**, **alignement** et **séparation**), nous avons décidé de rajouter :\n",
    "\n",
    "- une limitation de la vitesse, pour paraître plus réaliste\n",
    "- une limitation de l'espace, pour faire naitre plus d'interactions entre les boids\n",
    "- une mémoire de la trajectoire, pour analyser plus en détails les déplacements par la suite\n",
    "\n",
    "Une des limites de notre modélisation est que nous n'avons pas défini d'unité temporelle ni spatiale. Ainsi, le boid se déplace d'une certaine direction pour un certain pas de temps, mais sans référence particulière. "
   ]
  },
  {
   "cell_type": "code",
   "execution_count": null,
   "metadata": {
    "colab": {
     "base_uri": "https://localhost:8080/",
     "height": 130
    },
    "id": "rxHJPshLsAO6",
    "outputId": "74492dee-23d3-4f33-ae83-60a10eee92fa",
    "tags": []
   },
   "outputs": [],
   "source": [
    "# sources :\n",
    "# - http://www.kfish.org/boids/pseudocode.html\n",
    "#\n",
    "# Modifications :\n",
    "# - code en python\n",
    "# - classe\n",
    "# - ajout du champ de vision, vitesse limite, zones de perception\n",
    "# - sauvegarde de l'état courant\n",
    "\n",
    "class Boid:\n",
    "    \"\"\"\n",
    "    Représentation d'un boid.\n",
    "    \"\"\"\n",
    "    def __init__(self, fov=15*np.pi/16, attraction=150., repulsion=5., orientation=150., coherence_factor=.5,\n",
    "                 repulsion_factor=1, align_factor=.125, vmax=10., vmin=5., v_init=[3., 3., 3.],\n",
    "                 bounds=200, bound_reaction=10., spawn_size=50):\n",
    "        self.fov_ = fov # champ de vision, en rad\n",
    "        \n",
    "        # on instancie le boid à une position aléatoire\n",
    "        # la densité initiale sera plus ou moins importante selon spawn_size\n",
    "        self.position_ = Vec3(np.random.random_sample(3)) * spawn_size - (spawn_size / 2)\n",
    "        # tous les boids commencent avec la même vitesse initiale\n",
    "        self.velocity_ = Vec3(np.array(v_init))\n",
    "        \n",
    "        # taille des voisinnages pour les 3 règles\n",
    "        self.attraction_, self.repulsion_, self.orientation_ = attraction, repulsion, orientation\n",
    "        \n",
    "        # facteurs d'importance des trois règles\n",
    "        self.coherence_factor_ = coherence_factor\n",
    "        self.repulsion_factor_ = repulsion_factor\n",
    "        self.align_factor_ = align_factor\n",
    "        \n",
    "        self.vmax_, self.vmin_ = vmax, vmin # vitesses limites\n",
    "        self.bounds_ = bounds # espace limite, [-bounds, bounds] pour chaque axe\n",
    "        self.bound_reaction_ = bound_reaction # force de rappel des limites du monde\n",
    "        self.history_ = deque() # historique de position et vitesse\n",
    "        \n",
    "        self.save_state() # on sauvegarde les paramètres initiaux\n",
    "        \n",
    "    def filter_boids(self, boids, radius):\n",
    "        \"\"\"\n",
    "        Retourne les boids présent dans un certain radius et dans le champ de vision.\n",
    "        \"\"\"\n",
    "        # filtre par rapport au champ de vision\n",
    "        filter_angle = lambda other: self.velocity_.cos_angle(other.position_ - self.position_) > np.cos(self.fov_)\n",
    "        # filtre par rapport radius\n",
    "        filter_pos = lambda other: (other.position_ - self.position_).norm() < radius\n",
    "\n",
    "        return filter(filter_angle, filter(filter_pos, boids))\n",
    "\n",
    "    def rule_1(self, boids):\n",
    "        \"\"\"Règle 1 : cohésion : pour former un groupe, les boids se rapprochent les uns des autres\"\"\"\n",
    "        c = Vec3(np.zeros(3))\n",
    "        filtered_pos = [boid.position_ for boid in self.filter_boids(boids, self.attraction_)]\n",
    "\n",
    "        # on vérifie qu'il y a bien des boids\n",
    "        # sinon on ne se rapproche pas\n",
    "        if len(filtered_pos) >= 1:\n",
    "            c = sum(filtered_pos) / len(filtered_pos)\n",
    "        else:\n",
    "            c = self.position_\n",
    "\n",
    "        return (c - self.position_) * self.coherence_factor_\n",
    "\n",
    "    def rule_2(self, boids):\n",
    "        \"\"\"Règle 2 : séparation : 2 boids ne peuvent pas se trouver au même endroit au même moment\"\"\"\n",
    "        c = Vec3(np.zeros(3))\n",
    "\n",
    "        for boid in self.filter_boids(boids, self.repulsion_):\n",
    "            c += (self.position_ - boid.position_) * self.repulsion_factor_\n",
    "\n",
    "        return c\n",
    "\n",
    "    def rule_3(self, boids):\n",
    "        \"\"\"Règle 3 : alignement : pour rester groupés, les boids essayent de suivre un même chemin\"\"\"\n",
    "        c = Vec3(np.zeros(3))\n",
    "        filtered_vel = [boid.velocity_ for boid in self.filter_boids(boids, self.orientation_)]\n",
    "\n",
    "        # on vérifie qu'il y a bien des boids\n",
    "        # sinon on ne s'aligne pas\n",
    "        if len(filtered_vel) >= 1:\n",
    "            c = sum(filtered_vel) / len(filtered_vel)\n",
    "        else:\n",
    "            c = self.velocity_\n",
    "\n",
    "        return self.velocity_ + c * self.align_factor_\n",
    "\n",
    "    def limit_velocity(self):\n",
    "        \"\"\"Limitation de la vitesse du boid pour paraître plus réaliste\"\"\"\n",
    "        norm = self.velocity_.norm()\n",
    "\n",
    "        # on réduit la vitesse si elle trop grande\n",
    "        if norm > self.vmax_:\n",
    "            self.velocity_ = self.velocity_ / norm * self.vmax_\n",
    "        # on augment la vitesse si elle trop petite\n",
    "        if norm < self.vmin_:\n",
    "            self.velocity_ = self.velocity_ / norm * self.vmin_\n",
    "\n",
    "    def bound_position(self):\n",
    "        \"\"\"Limite la position dans l'espace\"\"\"\n",
    "        v = Vec3(np.zeros(3))\n",
    "        posx, posy, posz = self.position_\n",
    "\n",
    "        # on regarde si la position est en dehors des limites de l'espace\n",
    "        # si c'est le cas, on change la direction\n",
    "        if posx < -self.bounds_: v[0] += self.bound_reaction_\n",
    "        if posx > self.bounds_: v[0] -= self.bound_reaction_\n",
    "        if posy < -self.bounds_: v[1] += self.bound_reaction_\n",
    "        if posy > self.bounds_: v[1] -= self.bound_reaction_\n",
    "        if posz < -self.bounds_: v[2] += self.bound_reaction_\n",
    "        if posz > self.bounds_: v[2] -= self.bound_reaction_\n",
    "        \n",
    "        return v\n",
    "    \n",
    "    def save_state(self):\n",
    "        \"\"\"Sauvegarde l'état courant du boid\"\"\"\n",
    "        # on fait une copy pour éviter les changements de mémoire\n",
    "        p_copy, v_copy = self.position_.copy(), self.velocity_.copy()\n",
    "\n",
    "        self.history_.append((p_copy, v_copy))\n",
    "        \n",
    "    def rewind(self, t=0):\n",
    "        \"\"\"\n",
    "        Retourne à l'instant t en arrière.\n",
    "        Si t n'est pas donné, retourne l'origine des temps.\n",
    "        \"\"\"\n",
    "        self.position_, self.velocity_ = self.history_[t]"
   ]
  },
  {
   "cell_type": "markdown",
   "metadata": {},
   "source": [
    "Maintenant que l'on a des boids, on veut pouvoir simuler un groupe (troupeau, nuée, banc, ...) :"
   ]
  },
  {
   "cell_type": "code",
   "execution_count": null,
   "metadata": {
    "id": "x4oy3QmAhcjc"
   },
   "outputs": [],
   "source": [
    "class Boids:\n",
    "    \"\"\"Classe container pour l'ensemble des boids\"\"\"\n",
    "\n",
    "    def __init__(self, nb_boids, cell_size, **kwargs):\n",
    "        self.boids = [Boid(**kwargs) for _ in range(nb_boids)] # ensemble des boids\n",
    "        self.world = HashMap.from_boids(self.boids, cell_size) # monde dans lequel les boids évoluent\n",
    "        \n",
    "    def __len__(self):\n",
    "        \"\"\"Retourne le nombre de boid\"\"\"\n",
    "        return len(self.boids)\n",
    "\n",
    "    def move_boids(self):\n",
    "        \"\"\"\n",
    "        Calcul de la nouvelle position des boids.\n",
    "        \"\"\"\n",
    "        for boid in self.boids:\n",
    "            old_pos = boid.position_.copy() # on sauvegarde la position courante\n",
    "            boids = self.world.find_near(boid.position_) # on recupère tous les boids d'une même cellule\n",
    "            boids.remove(boid) # on supprime le boid pour ne pas qu'il se compte lui-même\n",
    "\n",
    "            v1 = boid.rule_1(boids)\n",
    "            v2 = boid.rule_2(boids)\n",
    "            v3 = boid.rule_3(boids)\n",
    "            v4 = boid.bound_position()\n",
    "\n",
    "            boid.velocity_ += v1 + v2 + v3 + v4\n",
    "            boid.limit_velocity()\n",
    "            boid.position_ += boid.velocity_ # déplacement instanané de la position\n",
    "\n",
    "            self.world.update(old_pos, boid.position_, boid) # on sauvegarde la nouvelle position dans la hashmap\n",
    "            boid.save_state()\n",
    "            \n",
    "    def get_history(self, index=None):\n",
    "        \"\"\"\n",
    "        Retourne l'historique des positions et vitesses pour un ou tous les boids\n",
    "        \"\"\"\n",
    "        if index is None:\n",
    "            return [boid.history_ for boid in self.boids]\n",
    "        \n",
    "        return self.boids[index].history_\n",
    "    \n",
    "    def rewind(self, t=0):\n",
    "        \"\"\"\n",
    "        Retourne à l'instant t.\n",
    "        Si t n'est pas donné, on retourne à l'origine.\n",
    "        \"\"\"\n",
    "        for boid in self.boids:\n",
    "            boid.rewind(t)\n",
    "\n",
    "    def plot(self, num_steps, bounds=110, title=\"Trajectoire des Boids\"):\n",
    "        \"\"\"\n",
    "        Visualise la trajectoire des boids au cours du temps.\n",
    "        \"\"\"\n",
    "        def update_lines(num, boids, positions, directions):\n",
    "            \"\"\"Fonction de visualisation 3D des trajectoires des boids\"\"\"\n",
    "            for boid, position, direction in zip(boids, positions, directions):\n",
    "                pos, vel = boid[num] # on recupère les position et vitesse num\n",
    "                d = np.array([pos, pos + vel]) # la direction est donnée par la vitesse\n",
    "        \n",
    "                position.set_data_3d(pos)\n",
    "                direction.set_data_3d(d.T)\n",
    "\n",
    "            return positions, directions\n",
    "\n",
    "\n",
    "        plt.rcParams[\"figure.figsize\"] = (9, 6) # taille des graphes\n",
    "        plt.rcParams[\"font.size\"] = 16 # taille police graphes\n",
    "        plt.rcParams[\"axes.grid\"] = True # affiche automatiquement la grille\n",
    "\n",
    "        history = self.get_history() # on récupère les informations de la trajectoire\n",
    "\n",
    "        # Tracé du résultat en 3D\n",
    "        fig = plt.figure()\n",
    "        ax = fig.add_subplot(projection=\"3d\")\n",
    "\n",
    "        ax.set_title(title)\n",
    "        ax.set(xlim3d=(-bounds,bounds), xlabel='X')\n",
    "        ax.set(ylim3d=(-bounds,bounds), ylabel='Y')\n",
    "        ax.set(zlim3d=(-bounds,bounds), zlabel='Z')\n",
    "\n",
    "        positions = [ax.plot([], [], [], \"ok\")[0] for i in range(self.__len__())]\n",
    "        directions = [ax.plot([], [], [], \"-r\")[0] for i in range(self.__len__())]\n",
    "\n",
    "        # Creation de l'animation\n",
    "        return animation.FuncAnimation(\n",
    "            fig, update_lines, frames=num_steps, fargs=(history, positions, directions), interval=50, repeat=False, blit=True)"
   ]
  },
  {
   "cell_type": "markdown",
   "metadata": {},
   "source": [
    "Il est important de bien choisir la taille des cellules de hashmap pour permettre d'optimiser le code tout en prenant en compte tous les boids dans le voisinage. Si nous prenons la taille de la cellule égale au rayon de la plus grande sphère de vision, nous garantissons que nous ne ratons aucun boid, même si le boid pour lequel nous faisons les calculs se trouve à la frontière entre deux cellules.\n",
    "Ici nous la posons égale au rayon de la sphère d'attraction ou d'orientation qui ont la même taille."
   ]
  },
  {
   "cell_type": "code",
   "execution_count": null,
   "metadata": {},
   "outputs": [],
   "source": [
    "#paramètres généraux\n",
    "num_steps = 200 # durée de la simulation\n",
    "N = 50 # nombre de boids\n",
    "cell_size = 150 # taille d'une cellule de hashmap\n",
    "\n",
    "def calcul(boids, num_steps=num_steps):\n",
    "    \"\"\"Effectue les calculs pour chaque pas de temps et affiche une barre de progression\"\"\"\n",
    "    f = IntProgress(description=\"Calcul...\", min=0, max=num_steps) # barre de progression\n",
    "    display(f) # affichage de la barre\n",
    "\n",
    "    # calcul des positions au cours du temps\n",
    "    for _ in range(num_steps):\n",
    "        boids.move_boids()\n",
    "\n",
    "        f.value += 1 # màj barre\n",
    "    \n",
    "    f.description = \"Ok !\" # calcul des positions fini"
   ]
  },
  {
   "cell_type": "markdown",
   "metadata": {},
   "source": [
    "On a désormais tous les éléments nécessaires pour simuler un comportement de groupe. Nous allons maintenant développer des outils afin d'étudier l'émergence de comportements :\n",
    "\n",
    "### Statistiques"
   ]
  },
  {
   "cell_type": "code",
   "execution_count": null,
   "metadata": {},
   "outputs": [],
   "source": [
    "class Stats:\n",
    "    \"\"\"\n",
    "    Classe pour réaliser différentes statistiques\n",
    "    \"\"\"\n",
    "    def __init__(self, positions, velocities, name, num_steps=num_steps):\n",
    "        self.positions = positions\n",
    "        self.velocities = velocities\n",
    "        self.name = name # nom à afficher sur les graphes\n",
    "        self.num_steps = num_steps # nombre de pas de temps\n",
    "        self.steps = np.array(list(range(num_steps + 1))) # liste des pas de temps\n",
    "\n",
    "\n",
    "    @classmethod\n",
    "    def from_history(cls, history, *args):\n",
    "        \"\"\"Change la forme de l'historique pour pouvoir faire des statistiques\"\"\"\n",
    "        reshape = np.array([\n",
    "            [(p, v) for p, v in boid] for boid in history]\n",
    "        )\n",
    "        \n",
    "        # on groupe par pas de temps\n",
    "        reshape = np.array(\n",
    "            [reshape[:, i] for i in range(len(history[0]))]\n",
    "        )\n",
    "        pos, vel = reshape[:,:,0], reshape[:,:,1]\n",
    "\n",
    "        return cls(pos, vel, *args)\n",
    "    \n",
    "    def alignement(self):\n",
    "        \"\"\"renvoie la moyenne des valeurs absolues des produits scalaires des vitesses normées à chaque pas de temps\"\"\"\n",
    "        moy_angles = [0 for _ in range(self.num_steps + 1)]\n",
    "\n",
    "        for t in range(self.num_steps + 1):\n",
    "            angle = 0\n",
    "            cmp = len(self.positions[0]) * (len(self.positions[0]) - 1) / 2\n",
    "\n",
    "            # pour chaque boid, on compare l'alignement aux autres\n",
    "            for i in range(len(self.positions[0])):\n",
    "                for j in range(i):\n",
    "                    angle += self.velocities[t, i].view(Vec3).cos_angle(self.velocities[t, j].view(Vec3))\n",
    "            \n",
    "            moy_angles[t] = angle / cmp\n",
    "\n",
    "        return moy_angles\n",
    "\n",
    "    def etalement(self):\n",
    "        \"\"\"renvoie la moyenne de la distance au centre de masse pour chaque boid par pas de temps\"\"\"\n",
    "        moy_etalement = [\n",
    "            np.mean(np.linalg.norm(position.mean(axis=0) - position, axis=1)) for position in self.positions\n",
    "        ]\n",
    "\n",
    "        return moy_etalement\n",
    "\n",
    "    def barycenter(self):\n",
    "        \"\"\"Calcule la norme de la position du barycentre pour chaque pas de temps\"\"\"\n",
    "        barycenters = self.positions.mean(axis=1)\n",
    "\n",
    "        return np.linalg.norm(barycenters, axis=1)\n",
    "\n",
    "    def vel_barycenter(self):\n",
    "        \"\"\"Calcule la norme de la vitesse du barycentre pour chaque pas de temps\"\"\"\n",
    "        barycenters = self.velocities.mean(axis=1)\n",
    "\n",
    "        return np.linalg.norm(barycenters, axis=1)\n",
    "\n",
    "    def accel_barycenter(self):\n",
    "        \"\"\"Calcule l'évolution de la vitesse du barycentre entre chaque pas de temps donc son accéleration\"\"\"\n",
    "        barycenters = self.velocities.mean(axis=1)\n",
    "        barycenters = np.diff(barycenters, axis=0)\n",
    "\n",
    "        return np.linalg.norm(barycenters, axis=1)\n",
    "\n",
    "    # Documentation du module joyplot :\n",
    "    # https://deepnote.com/@deepnote/Joyplot-Introduction-4666e1a3-3249-442e-9a94-2bbcc5cb1b1d\n",
    "    def distribution(self, t):\n",
    "        \"\"\"Renvoie la distribution moyenne des boids au temps t\"\"\"\n",
    "        \n",
    "        nb_boids = len(self.positions[0]) #correspond au nombre de boids\n",
    "        distribs = np.zeros(nb_boids)\n",
    "    \n",
    "        for i in range(nb_boids):\n",
    "            center_pos = self.positions[t, i] #on va calculer la distribution autour d'un boid\n",
    "\n",
    "            distribs = distribs + np.linalg.norm(self.positions[t] - center_pos, axis=1)\n",
    "\n",
    "        #nous introduisons un 0 dans la somme des distances aux autres boids (distance avec lui même)\n",
    "        #donc nous divisons par le nombre de boids - 1 pour ne pas comptabiliser cette valeur dans la moyenne    \n",
    "        return distribs / (nb_boids - 1)\n",
    "    \n",
    "    def plot(self):\n",
    "        \"\"\"Renvoie des graphes présentant toutes les données analysées par les fonctions précédentes\"\"\"\n",
    "        plt.rcParams[\"figure.figsize\"] = (16, 10) # taille des graphes\n",
    "        plt.rcParams[\"figure.autolayout\"] = True # ajustement des subplots\n",
    "        plt.rcParams[\"axes.grid\"] = True # affiche automatiquement la grille\n",
    "\n",
    "        fig = plt.figure()\n",
    "\n",
    "        # Étalement des boids au cours du temps\n",
    "        fig.add_subplot(521)\n",
    "        plt.plot(self.steps, self.etalement(), \"+\")\n",
    "        plt.xlabel(\"Temps\")\n",
    "        plt.ylabel(\"Distance moyenne au centre de masse\")\n",
    "        plt.title(f\"Etalement des '{self.name}' au cours du temps\")\n",
    "\n",
    "        # Alignement des boids au cours du temps\n",
    "        fig.add_subplot(522)\n",
    "        plt.plot(self.steps, self.alignement(), \"+\")\n",
    "        plt.ylim(-0.01, 1.01)\n",
    "        plt.xlabel(\"Temps\")\n",
    "        plt.ylabel(\"anlge moyen entre tous les boids\")\n",
    "        plt.title(f\"Alignement des '{self.name}' au cours du temps\")\n",
    "\n",
    "        # Norme de la position du barycentre au cours du temps\n",
    "        fig.add_subplot(5, 2, (3, 4))\n",
    "        plt.plot(self.steps, self.barycenter(), \"+\")\n",
    "        plt.xlabel(\"Temps\")\n",
    "        plt.ylabel(\"Barycentre\")\n",
    "        plt.title(f\"Norme du barycentre des '{self.name}' au cours du temps\")\n",
    "\n",
    "        # Vitesse du barycentre au cours du temps\n",
    "        fig.add_subplot(5, 2, (5, 6))\n",
    "        plt.plot(self.steps, self.vel_barycenter(), \"+\")\n",
    "        plt.xlabel(\"Temps\")\n",
    "        plt.ylabel(\"Vitesse du barycentre\")\n",
    "        plt.title(f\"Norme de la vitesse du barycentre des '{self.name}' au cours du temps\")\n",
    "\n",
    "        # Accélération du barycentre au cours du temps\n",
    "        fig.add_subplot(5, 2, (7, 8))\n",
    "        plt.plot(self.steps[1:], self.accel_barycenter(), \"+\")\n",
    "        plt.xlabel(\"Temps\")\n",
    "        plt.ylabel(\"Accélération du barycentre\")\n",
    "        plt.title(f\"Accélération du barycentre des '{self.name}' au cours du temps\")\n",
    "\n",
    "        plt.show()\n",
    "        \n",
    "        plt.rcParams[\"figure.autolayout\"] = False # plus d'ajustement\n",
    "\n",
    "        #Distribution moyenne des boids au cours du temps\n",
    "        distrib = [self.distribution(t) for t in range(self.num_steps)]\n",
    "        labels = [i if i % 10 == 0 else None for i in range(self.num_steps)]\n",
    "        fig, ax = joypy.joyplot(distrib, range_style='own', ylim=\"own\",\n",
    "                                  grid=\"y\", linewidth=1, legend=False, figsize=(12,8),\n",
    "                                  title=f\"Evolution de la distribution des {self.name}\", labels=labels)\n",
    "        ax[-1].yaxis.set_label_position(\"right\")\n",
    "        ax[-1].yaxis.set_visible(True)\n",
    "        ax[-1].yaxis.set_ticks([])\n",
    "        ax[-1].set_ylabel(\"Temps\")\n",
    "        ax[-1].set_xlabel(\"Distance moyenne entre les boids\")\n",
    "\n",
    "        plt.show()"
   ]
  },
  {
   "cell_type": "markdown",
   "metadata": {},
   "source": [
    "### Un premier groupe\n",
    "\n",
    "Maintenant que nous avons tous les outils nécessaires, nous pouvons tenter de simuler puis d'analyser l'émergence d'un comportement de groupe."
   ]
  },
  {
   "cell_type": "code",
   "execution_count": null,
   "metadata": {},
   "outputs": [],
   "source": [
    "# on crée une instance de la classe avec 100 boids\n",
    "boids = Boids(N, 100)\n",
    "\n",
    "# on calcule les positions de tous les boid pour chaque pas de temps (ici 200 par défaut)\n",
    "calcul(boids)"
   ]
  },
  {
   "cell_type": "code",
   "execution_count": null,
   "metadata": {},
   "outputs": [],
   "source": [
    "# matplotlib intéractif\n",
    "%matplotlib notebook\n",
    "\n",
    "anim = boids.plot(num_steps, bounds=250, title=\"Trajectoire des boids\")"
   ]
  },
  {
   "cell_type": "markdown",
   "metadata": {},
   "source": [
    "Cette simulation à été effectuée avec les paramètres par défauts passés dans la classe Boid à savoir :\n",
    "- champ de vision : $\\frac{15\\pi}{16}$ rad\n",
    "\n",
    "\n",
    "- rayon des sphères :\n",
    "    - d'attraction : 150\n",
    "    - de repulsion : 5\n",
    "    - d'orientation : 150\n",
    "\n",
    "\n",
    "- facteurs :\n",
    "    - d'attraction : 0.5\n",
    "    - de repulsion : 1\n",
    "    - d'orientation : 0.125\n",
    "\n",
    "\n",
    "- limitation de la vitesse :\n",
    "    - minimale : 5\n",
    "    - maximale : 10\n",
    "\n",
    "- vitese initiale : [3, 3, 3]\n",
    "\n",
    "\n",
    "- taille de la boite : 200\n",
    "\n",
    "\n",
    "- reaction aux limites : 10\n",
    "\n",
    "\n",
    "- spawn size : 50\n",
    "\n",
    "Le rayon des sphères affecte la distance à laquelle un boid va prendre en compte un autre boid pour appliquer chacune des trois règles, et cette distance peut varier d'une règle à l'autre. Les facteurs affectent à quel point un boid accorde de \"l'importance\" à une certaine règle. La taille de la boite est la taille de l'espace dans lequel sont libres d'évoluer les boids, tandis que la réaction aux limites est analogue aux facteurs vus plus haut si nous considérons une quatrième règle incitant les boids à rester dans la boite. Enfin, le paramètre *spawn_size* dicte la taille de l'espace dans lequel nous initialisons les positions des boids.\n",
    "\n",
    "Nous voyons que les boids commencent en formant un seul groupe ce qui est attendu car ils ont tous la même vitesse initiale. Mais ce groupe peut se scinder en plus petits groupes qui suivent chacun leur trajectoire. En effet si le groupe est légèrement perturbé, des grands facteurs d'alignement et de cohérence vont avoir tendance à rapprocher les individus qui ont été séparés et engendrer la création de plus petits groupes.\n",
    "\n",
    "Dans cette configuration, un trop grand groupe est instable et la configuration qui apparait naturellement est de plus petits groupes se détachant du groupe initial. Mais si nous augmentons la taille des limites, ainsi que du paramètre spawn_size afin d'initialiser la position des boids partout dans notre boite, que se passerait-il ? Nous ne commencerions plus avec un grand groupe initial, mais des groupes émergeraient-ils quand même ? Si oui, auraient-ils la même taille ?"
   ]
  },
  {
   "cell_type": "code",
   "execution_count": null,
   "metadata": {},
   "outputs": [],
   "source": [
    "boids2 = Boids(N, 100, v_init=[0.1, 0.1, 0.1], bounds=400, spawn_size=400)\n",
    "calcul(boids2)"
   ]
  },
  {
   "cell_type": "code",
   "execution_count": null,
   "metadata": {},
   "outputs": [],
   "source": [
    "anim = boids2.plot(num_steps, bounds=450, title=\"Formation de groupes\")"
   ]
  },
  {
   "cell_type": "markdown",
   "metadata": {},
   "source": [
    "Les boids initialement répartis uniformément dans tout l'espace commencent a former de petits groupes similaires à ceux observés pour le premier cas de figure. Nous voyons néanmoins que les boids ont plus de mal à former des groupes et à la fin de la simulation, ils sont un peu plus éparpillés.\n",
    "\n",
    "Il semble que les boids avec ces paramètres aient une configuration stable qui émerge naturellement quand nous les laissons évoluer dans l'espace que nous leur donnons. Nous pouvons également analyser les données à l'aide des fonctions que nous avons créées :"
   ]
  },
  {
   "cell_type": "code",
   "execution_count": null,
   "metadata": {},
   "outputs": [],
   "source": [
    "# plus besoin du mode interactif\n",
    "%matplotlib inline\n",
    "\n",
    "stats_boids = Stats.from_history(boids.get_history(), \"boids\")\n",
    "stats_boids.plot() #cela peu prendre un peu de temps, surtout pour le dernier graphe 'distribution moyenne'"
   ]
  },
  {
   "cell_type": "markdown",
   "metadata": {},
   "source": [
    "Ce que nous avions vu au sujet des groupes se scindant en groupes plus petits se voit dans l'étalement qui croit au cours du temps. Une baisse de l'étalement peut être du à la fusion de deux groupes qui se croisent comme nous avons également pu observer dans l'animation.\n",
    "\n",
    "Il peut être intéressant de remarquer que l'alignement des boids et la norme de la vitesse du barycentre des boids semblent être très fortement corrélés. Ceci est attendu, car si l'alignement est élevé, tous les boids vont dans le même sens et le barycentre avance avec le reste des boids à cette vitesse là. Si au contraire l'alignement est faible, les boids vont dans tous les sens et nous pouvons imaginer le barycentre qui reste sur place.\n",
    "\n",
    "La norme du barycentre des boids semble évoluer avec une certaine périodicité, ceci s'explique par la barières que nous avons imposées, les boids commencent à aller dans une certaine direction, puis en rencontrant la barrière repartent plus ou moins dans la direction opposée et ainsi de suite. Ceci se voit bien également dans l'animation. Le temps entre deux maxima semble être autour de 30 pas de temps, et la boite dans laquelle évoluent les boids fait 250 unité de longeur : $\\frac{250}{30} \\approx 8.33$ cette vitesse est plausible, elle est entre les bornes maximles de 5 et 10.\n",
    "\n",
    "Comme nous venons d'établir, la norme du barycentre semble évoluer de manière périodique, et à chaque maxima dans cette évolution, semble correspondre une baisse temporaire de la vitesse du barycentre et un pic dans son accéleration. Comme vu précédement, les maxima de la norme du barycentre devraient correspondre au moment ou les boids atteignent la barrière. Il n'est donc pas étonnant de voir à ces moments là, une baisse de la vitesse du barycentre car les boids font demi tour. Par définition, un changement de vitesse entrainera un pic d'accélération. Il ne se passe rien au niveau des minima de la norme du barycentre car ceci correspond juste au moment où les boids passent par l'origine.\n",
    "\n",
    "Enfin, l'évolution de la distribution moyenne des boids donne toujours la même idée que les boids s'étalent au cours du temps avec l'étalement des pics que l'on voit. Mais elle nous permet également de voir la formation de nouveaux groupes sous la forme de nouveaux pics se séparant et s'éloignant du pic principal. En effet si tous les boids sont dans un seul groupe, nous verrons un seul  grand pic centré sur la distance moyenne entre deux boids qui sera plus ou moins étalé selon si les boids eux mêmes sont très étalés ou non. Maintenant, si un groupe se sépare et se situe à une distance $d$ du groupe principal, nous verrons toujours un même pic centré sur la distance moyenne entre deux boids du même groupe, mais également un pic secondaire, plus petit, centré sur $d$ qui sera la distance moyenne entre deux boids qui ne sont pas dans le même groupe. Le pic principal en plus de s'étaler avance sur l'axe des abscisses, ce qui nous indique que les boids auront tendance à être de plus en plus éloignés les uns des autres avec le temps."
   ]
  },
  {
   "cell_type": "markdown",
   "metadata": {
    "tags": []
   },
   "source": [
    "## Poissons\n",
    "\n",
    "On cherche à faire émerger une structure de type banc de poisson.  \n",
    "Ce type de groupe à la particularité de rester très groupé ce qui a pour effet de rendre les temps de calcul long, l'utilisation du spatial hash n'aidant pas vraiment. Pour cela, on donne des grands coefficients de répulsion et d'alignement et un facteur de cohésion plus faible. Chaque taille de zone de voisinage est différente avec une zone de repulsion relativement faible par rapport aux autres pour rendre le tout bien dense."
   ]
  },
  {
   "cell_type": "code",
   "execution_count": null,
   "metadata": {},
   "outputs": [],
   "source": [
    "poissons = Boids(N, cell_size=30, fov=15*np.pi/16, attraction=60., repulsion=10., orientation=50.,\n",
    "                 coherence_factor=.07, repulsion_factor=.3, align_factor=.7, vmin=1, vmax=5,\n",
    "                 bounds=100, bound_reaction=1, spawn_size=50)\n",
    "\n",
    "calcul(poissons)"
   ]
  },
  {
   "cell_type": "markdown",
   "metadata": {
    "jp-MarkdownHeadingCollapsed": true,
    "tags": []
   },
   "source": [
    "### Visualisation"
   ]
  },
  {
   "cell_type": "code",
   "execution_count": null,
   "metadata": {
    "colab": {
     "base_uri": "https://localhost:8080/",
     "height": 297
    },
    "id": "Ph0hse5lmL_R",
    "outputId": "2df1a41c-3bfb-47a8-ed5d-0f28953c51d9"
   },
   "outputs": [],
   "source": [
    "# matplotlib intéractif\n",
    "%matplotlib notebook\n",
    "\n",
    "anim = poissons.plot(num_steps, bounds=150, title=\"Trajectoire des poissons\")"
   ]
  },
  {
   "cell_type": "markdown",
   "metadata": {},
   "source": [
    "Les boids restent bien groupés.\n",
    "\n",
    "### Statistiques"
   ]
  },
  {
   "cell_type": "code",
   "execution_count": null,
   "metadata": {},
   "outputs": [],
   "source": [
    "# plus besoin du mode interactif\n",
    "%matplotlib inline\n",
    "\n",
    "stats_poissons = Stats.from_history(poissons.get_history(), \"poissons\")\n",
    "stats_poissons.plot()"
   ]
  },
  {
   "cell_type": "markdown",
   "metadata": {
    "tags": []
   },
   "source": [
    "On voit bien que l'alignement reste constant et proche de 1. L'étalement est lui aussi relativement constant avec une distance au centre de masse qui est environ le double de la taille de la zone de répulsion. La vitesse du groupe est constante aussi.  \n",
    "Ces résultats paraissent cohérent car pour que le groupe reste uni il faut qu'il se déplace à la même vitesse et dans la même direction. La stabilité de l'étalement peut être perçu comme le fait que chaque poisson a trouvé sa place, ils ne rentrent donc pas en collision entre eux et ne perturbent ainsi pas la structure globale.  \n",
    "On voit que l'accélération et le barycentre des poissons suivent la même tendance : les pics correspondent aux réactions des bords du volume (l'amplitude des pics étant toujours positifs car on compare les normes des vecteurs). C'est encore une fois cohérent car le banc étant groupé, son barycentre suit son mouvement globale, l'accélération apparaissant lors du changement de direction dû aux bords.  \n",
    "Enfin, on voit que la distribution des poissons évolue très peu au fil du temps, appuyant ainsi plus les résultats précédents.\n",
    "\n",
    "## Oiseaux [$^{[9]}$](#Sources)\n",
    "\n",
    "On essaie maintenant pour une structure de nuée d'oiseaux.  \n",
    "Bien que ressemblant au banc de poissons, une nuée d'oiseaux a des individus plus éloignés les uns des autres et ces derniers peuvent potentiellement se séparer en plus petits groupes un court instant.\n",
    "\n",
    "On va comparer pour deux structures avec des paramètres initiaux différents :\n",
    "\n",
    "1. Un petit voisinage, dont la taille des zones de perception sont identiques, avec des facteurs de répulsion et d'alignement égaux, un faible facteur de cohérence. Le volume disponible de déplacement est plutôt petit et la densité initiale est faible.\n",
    "2. On augmente la taille zones de perception qui ne sont plus identiques, le volume est plus grand, les facteurs sont tous différents et les boids sont beaucoup plus concentrés initialement."
   ]
  },
  {
   "cell_type": "code",
   "execution_count": null,
   "metadata": {},
   "outputs": [],
   "source": [
    "oiseaux_1 = Boids(N, cell_size=2, fov=15*np.pi/8, attraction=2., repulsion=2., orientation=2.,\n",
    "                  coherence_factor=.5e-4, repulsion_factor=.05, align_factor=.05, vmax=3, vmin=2,\n",
    "                  bounds=50, bound_reaction=.4, spawn_size=25)\n",
    "\n",
    "# calcul plus long\n",
    "oiseaux_2 = Boids(N, cell_size=60, fov=15*np.pi/16, attraction=60., repulsion=10., orientation=50.,\n",
    "                  coherence_factor=.007, repulsion_factor=.03, align_factor=.07, vmax=6, vmin=3,\n",
    "                  bounds=100, bound_reaction=1, spawn_size=10)\n",
    "\n",
    "calcul(oiseaux_1)\n",
    "calcul(oiseaux_2)"
   ]
  },
  {
   "cell_type": "markdown",
   "metadata": {
    "tags": []
   },
   "source": [
    "### Visualisation"
   ]
  },
  {
   "cell_type": "code",
   "execution_count": null,
   "metadata": {
    "colab": {
     "base_uri": "https://localhost:8080/",
     "height": 297
    },
    "id": "Ph0hse5lmL_R",
    "outputId": "2df1a41c-3bfb-47a8-ed5d-0f28953c51d9"
   },
   "outputs": [],
   "source": [
    "# matplotlib intéractif\n",
    "%matplotlib notebook\n",
    "\n",
    "anim = oiseaux_1.plot(num_steps, 100)"
   ]
  },
  {
   "cell_type": "code",
   "execution_count": null,
   "metadata": {},
   "outputs": [],
   "source": [
    "anim = oiseaux_2.plot(num_steps, 150)"
   ]
  },
  {
   "cell_type": "markdown",
   "metadata": {},
   "source": [
    "Cela ressemble assez à ce qu'on peut voir lorsqu'une nuée d'oiseaux vole.\n",
    "\n",
    "### Statistiques"
   ]
  },
  {
   "cell_type": "code",
   "execution_count": null,
   "metadata": {},
   "outputs": [],
   "source": [
    "# plus besoin du mode interactif\n",
    "%matplotlib inline\n",
    "\n",
    "stats_oiseaux_1 = Stats.from_history(oiseaux_1.get_history(), \"oiseaux 1\")\n",
    "stats_oiseaux_2 = Stats.from_history(oiseaux_2.get_history(), \"oiseaux 2\")\n",
    "\n",
    "stats_oiseaux_1.plot()"
   ]
  },
  {
   "cell_type": "markdown",
   "metadata": {},
   "source": [
    "Contrairement aux poissons, l'étalement des oiseaux semblent plus disparates. On pouvait s'y attendre car comme la nuée peut se subdiviser en sous-groupe, la position du centre de masse fluctue lors de l'apparition de nouveaux groupes. On peut aussi voir le petit pic vers zéro vers $t = 35$ qui correspond aux regroupements des boids avant leur éclatement dans la visualisation.  \n",
    "Encore une fois, les pics présents dans les autres graphes correspondent aux réactions avec les limites du monde. Si ici l'alignement et la vitesse présentent aussi des pics, c'est car les oiseaux ne forment pas une masse groupée comme les poissons, mais plutôt une ligne, donc lorsque les premiers oiseaux atteignent les murs et changent de direction, les autres eux continuent dans la même direction : il y a donc autant d'oiseaux dans un sens que dans l'autre d'où cette annulation de l'alignement et de la vitesse.  \n",
    "Pour la norme du barycentre ainsi que de l'accélération, il s'agit de la même chose que pour les poissons : certes les oiseaux sont un peu plus distants les uns des autres, mais ils forment tout de même un groupe assez compact qui traduit le suivi du mouvement du groupe.  \n",
    "Enfin, on voit que la distribution du groupe s'étale et se recontracte au fil du temps tout en gardant un pic qui est le groupe central."
   ]
  },
  {
   "cell_type": "code",
   "execution_count": null,
   "metadata": {},
   "outputs": [],
   "source": [
    "stats_oiseaux_2.plot()"
   ]
  },
  {
   "cell_type": "markdown",
   "metadata": {},
   "source": [
    "On obtient les mêmes tendances de graphes que pour les *oiseaux_1*. Cela nous indique qu'il n'existe pas qu'une seule configuration possible pour une structure donnée. En faisant varier les paramètres, qu'on peut assimiler à des échelles de grandeur dans la réalité, on retrouve des structures connues à d'autres échelles.\n",
    "\n",
    "## Essaim\n",
    "\n",
    "Enfin, on va modéliser un essaim. Un essaim ne semble pas posséder de structure particulière. Les individus (des insectes la plupart du temps) sont très éloignés les uns des autres : ils possèdent de grandes zones d'attraction et de répulsion couplées à une zone d'orientation quasiment inexistante[$^{[6]}$](#Sources)."
   ]
  },
  {
   "cell_type": "code",
   "execution_count": null,
   "metadata": {},
   "outputs": [],
   "source": [
    "N_essaim = N\n",
    "num_steps_essaim = 400\n",
    "\n",
    "essaim = Boids(N_essaim, cell_size=20, fov=15*np.pi/8, attraction=20., repulsion=20., orientation=2e-5,\n",
    "               coherence_factor=.5, repulsion_factor=.5, align_factor=5e-10, vmax=5, vmin=3,\n",
    "               bounds=100, bound_reaction=.4, spawn_size=100)\n",
    "\n",
    "calcul(essaim, num_steps_essaim)"
   ]
  },
  {
   "cell_type": "markdown",
   "metadata": {
    "tags": []
   },
   "source": [
    "### Visualisation"
   ]
  },
  {
   "cell_type": "code",
   "execution_count": null,
   "metadata": {
    "colab": {
     "base_uri": "https://localhost:8080/",
     "height": 297
    },
    "id": "Ph0hse5lmL_R",
    "outputId": "2df1a41c-3bfb-47a8-ed5d-0f28953c51d9"
   },
   "outputs": [],
   "source": [
    "# matplotlib intéractif\n",
    "%matplotlib notebook\n",
    "\n",
    "anim = essaim.plot(num_steps_essaim, 150)"
   ]
  },
  {
   "cell_type": "markdown",
   "metadata": {},
   "source": [
    "### Statistiques"
   ]
  },
  {
   "cell_type": "code",
   "execution_count": null,
   "metadata": {},
   "outputs": [],
   "source": [
    "# plus besoin du mode interactif\n",
    "%matplotlib inline\n",
    "\n",
    "# calcul long car beaucoup de temps \n",
    "stats_essaim = Stats.from_history(essaim.get_history(), \"insectes\", num_steps_essaim)\n",
    "stats_essaim.plot()"
   ]
  },
  {
   "cell_type": "markdown",
   "metadata": {},
   "source": [
    "Comme les insectes sont très éloignés les uns des autres, on s'attend à ce qu'ils atteignent un maximum d'étalement, que leur alignement tendent vers un minimum et que les normes de la position, vitesse et accélération du barycentre tendent vers zéro, tous les déplacements et positions étant equiprobables, un peu comme un nuage d'atomes.\n",
    "C'est bien ce qu'on obtient avec un étalement qui tend vers une occupation de tout l'espace disponible (dans ce cas là 200), et tous les autres paramètres (alignement et normes) qui tendent vers zéro et la distribution entre les boids s'étalant bien au fur et à mesure du temps.\n",
    "\n",
    "## Conclusion\n",
    "\n",
    "L'idée clé de l'algorithme des boids est de montrer que les animaux ayant des comportements grégaires n'ont pas besoin de communiquer entre eux afin de former des groupes organisés. Chaque boid individuellement fait simplement des choix par rapport à son entourage proche et, lorsque nous le faisons avec suffisement d'entre eux, nous voyons l'émergence de comportements similaires à ceux observés dans la nature.\n",
    "\n",
    "Il est important de discuter des limitations de notre modèle. En effet, les animaux exhibent des comportements plus complexes que ceux que nous démontrons ici. Dans notre implémentation de l'algorithme des boids, ceux-ci n'intéragissent avec leur environnement qu'à travers les limites que nous avons imposées dans l'espace. Ceci est évidement une simplification de la réalité, dans laquelle des contraintes environnementales (météo, relief...) n'entrent pas en jeu.\n",
    "    Dans notre étude, les boids ne communiquent pas entre eux mais utilisent seulement leur 'vision', alors qu'en réalité des études sur des poissons[$^{[10]}$](#Sources) ont démontré l'importance d'autre sens tels que celui de ressentir des changements de courants et de pression dans l'eau grâce à leur ligne latérale.\n",
    "    \n",
    "On peut souligner l'absence de certains comportements (destination préférentielle, fatigue, ...). En effet, nos boids ici n'ont pas de but précis. Nous avons également omis par soucis de simplicité la présence d'intéractions interspécifiques (par exemple avec un prédateur, ou d'autres espèces). Celles-ci auraient pu modifier leurs comportements (réaction de fuite, dispersion, attaque groupée face à une proie...).\n",
    "    \n",
    "Finalement, nous avons modélisé un groupe totalement homogène sans différences entre les individus (vitesse, force physique, âge, taille). Il arrive qu'il existe une hiérarchie au sein des groupes, c'est l'exemple de la \"vache leadeuse\" qui possède la meilleure fonction de relation (meilleure vue, meilleure force physique), qui va alors guider le troupeau dans sa recherche de nourriture."
   ]
  },
  {
   "cell_type": "markdown",
   "metadata": {},
   "source": [
    "## Sources\n",
    "1. [Comportment grégaire](https://fr.wikipedia.org/wiki/Comportement_gr%C3%A9gaire)\n",
    "2. [Reynolds, C.W. (1987). \"Flocks, Herds, and Schools: A Distributed Behavioral Model\". _Computer Graphics_, __21__(4), pp.25-34.](https://team.inria.fr/imagine/files/2014/10/flocks-hers-and-schools.pdf)\n",
    "3. [Flock Defense](https://web.stanford.edu/group/stanfordbirds/text/essays/Flock_Defense.html)\n",
    "4. [Site de Craig W. Reynolds](http://www.red3d.com/cwr/boids/)\n",
    "5. [Pseudocode boids](http://www.kfish.org/boids/pseudocode.html)\n",
    "6. [Boids Wikipédia](https://fr.wikipedia.org/wiki/Boids)\n",
    "7. [Taille d'une nuée](https://support.ebird.org/en/support/solutions/articles/48000838845-how-to-count-birds)\n",
    "8. [Spatial hash](http://mauveweb.co.uk/posts/2011/05/introduction-to-spatial-hashes.html)\n",
    "9. [Paramètres oiseaux](http://people.ece.cornell.edu/land/courses/ece4760/labs/s2021/Boids/Boids.html)\n",
    "10. [Pitcher, T. J., Partridge, B. L., Wardle, C. S., \"Blind Fish Can School,\" Science 194,#4268 (1976), p. 964.](https://www.science.org/doi/10.1126/science.982056)"
   ]
  }
 ],
 "metadata": {
  "colab": {
   "name": "Boids.ipynb",
   "provenance": []
  },
  "kernelspec": {
   "display_name": "Python 3 (ipykernel)",
   "language": "python",
   "name": "python3"
  },
  "language_info": {
   "codemirror_mode": {
    "name": "ipython",
    "version": 3
   },
   "file_extension": ".py",
   "mimetype": "text/x-python",
   "name": "python",
   "nbconvert_exporter": "python",
   "pygments_lexer": "ipython3",
   "version": "3.9.2"
  }
 },
 "nbformat": 4,
 "nbformat_minor": 4
}
